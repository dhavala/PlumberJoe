{
 "cells": [
  {
   "cell_type": "code",
   "execution_count": 57,
   "metadata": {
    "collapsed": false
   },
   "outputs": [],
   "source": [
    "import json\n",
    "from pprint import pprint\n",
    "import networkx as nx"
   ]
  },
  {
   "cell_type": "code",
   "execution_count": 64,
   "metadata": {
    "collapsed": false
   },
   "outputs": [
    {
     "name": "stdout",
     "output_type": "stream",
     "text": [
      "{u'cmd': u'echo 01',\n",
      " u'config': None,\n",
      " u'sink.uri': [u'data.01.txt'],\n",
      " u'source.uri': [None],\n",
      " u'status': 0}\n",
      "{u'cmd': u'echo 02 > data.02.txt | cat data.01.txt >> data.02.txt',\n",
      " u'config': None,\n",
      " u'sink.uri': [u'data.02.txt'],\n",
      " u'source.uri': [u'data.01.txt'],\n",
      " u'status': 0}\n",
      "{u'cmd': u'echo 03 > data.03.txt | cat data.02.txt >> data.03.txt',\n",
      " u'config': None,\n",
      " u'sink.uri': [u'data.03.txt'],\n",
      " u'source.uri': [u'data.02.txt'],\n",
      " u'status': 0}\n"
     ]
    }
   ],
   "source": [
    "# read all config files and create a list of dictionaries. each config file (in json) \n",
    "# is a dictionary with keys - source uri, sink url, command, and config\n",
    "dlist=[]\n",
    "import glob, os\n",
    "os.chdir(\"./\")\n",
    "for file in glob.glob(\"*.config.json\"):\n",
    "    with open(file) as data_file:\n",
    "        data = json.load(data_file)\n",
    "    dlist.append(data.copy())\n",
    "    pprint(data)"
   ]
  },
  {
   "cell_type": "code",
   "execution_count": 127,
   "metadata": {
    "collapsed": false
   },
   "outputs": [
    {
     "name": "stdout",
     "output_type": "stream",
     "text": [
      "src: 0\n",
      "src: 1\n",
      "\t snk: 0\n",
      "\t\t link: ['data.01.txt']\n",
      "\t snk: 2\n",
      "src: 2\n",
      "\t snk: 0\n",
      "\t snk: 1\n",
      "\t\t link: ['data.02.txt']\n",
      "[[1, 0], [2, 1]]\n",
      "[0, 1, 2]\n",
      "[(1, 0), (2, 1)]\n"
     ]
    }
   ],
   "source": [
    "# create a graph where each node is a data-processing step (corresponding to a config file)\n",
    "# if a node's source uri has matching entry in any other node's sink url, then ther is an edge from\n",
    "# source node to sink node.\n",
    "n = (len(dlist))\n",
    "edge_list = []\n",
    "G=nx.DiGraph()\n",
    "\n",
    "for src in range(n):\n",
    "    x = dlist[src]['source.uri']\n",
    "    x1 = set([str(item) for item in x])\n",
    "    print(\"src: \" + str(src))\n",
    "    if all(\"None\" in s for s in x1):\n",
    "        continue\n",
    "    for snk in (set(range(n))-set([src])):\n",
    "        print(\"\\t snk: \" + str(snk))\n",
    "        y = dlist[snk]['sink.uri']\n",
    "        y1 = set([str(item) for item in y])\n",
    "        cmn = (x1 & y1)\n",
    "        if cmn != set():\n",
    "            print(\"\\t\\t link: \"+ str(list(cmn)))\n",
    "            edge_list.append([src,snk])\n",
    "\n",
    "pprint(edge_list)\n",
    "\n",
    "# create the Graph\n",
    "G.add_nodes_from(range(n))\n",
    "G.add_edges_from(edge_list)\n",
    "# display the Graph\n",
    "pprint(G.nodes())\n",
    "pprint(G.edges())"
   ]
  },
  {
   "cell_type": "code",
   "execution_count": 128,
   "metadata": {
    "collapsed": false
   },
   "outputs": [
    {
     "name": "stdout",
     "output_type": "stream",
     "text": [
      "Compute Graph is DAG\n"
     ]
    }
   ],
   "source": [
    "# check if the graph is a DAG\n",
    "if nx.is_directed_acyclic_graph(G):\n",
    "    print(\"Compute Graph is DAG\")\n",
    "else:\n",
    "    print(\"something wrong with data flow\")    "
   ]
  }
 ],
 "metadata": {
  "kernelspec": {
   "display_name": "Python 2",
   "language": "python",
   "name": "python2"
  },
  "language_info": {
   "codemirror_mode": {
    "name": "ipython",
    "version": 2
   },
   "file_extension": ".py",
   "mimetype": "text/x-python",
   "name": "python",
   "nbconvert_exporter": "python",
   "pygments_lexer": "ipython2",
   "version": "2.7.12"
  }
 },
 "nbformat": 4,
 "nbformat_minor": 0
}
